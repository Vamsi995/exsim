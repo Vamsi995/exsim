{
  "nbformat": 4,
  "nbformat_minor": 0,
  "metadata": {
    "colab": {
      "provenance": []
    },
    "kernelspec": {
      "name": "python3",
      "display_name": "Python 3"
    },
    "language_info": {
      "name": "python"
    }
  },
  "cells": [
    {
      "cell_type": "code",
      "execution_count": null,
      "metadata": {
        "colab": {
          "base_uri": "https://localhost:8080/"
        },
        "id": "ImtQJ9m6V6xx",
        "outputId": "e7fd2421-893d-4afc-aad8-72eb19df0bfd"
      },
      "outputs": [
        {
          "output_type": "stream",
          "name": "stdout",
          "text": [
            "Cloning into 'moeut_training_code'...\n",
            "remote: Enumerating objects: 246, done.\u001b[K\n",
            "remote: Counting objects: 100% (246/246), done.\u001b[K\n",
            "remote: Compressing objects: 100% (171/171), done.\u001b[K\n",
            "remote: Total 246 (delta 71), reused 244 (delta 69), pack-reused 0 (from 0)\u001b[K\n",
            "Receiving objects: 100% (246/246), 161.45 KiB | 4.25 MiB/s, done.\n",
            "Resolving deltas: 100% (71/71), done.\n"
          ]
        }
      ],
      "source": [
        "!git clone https://github.com/RobertCsordas/moeut_training_code.git"
      ]
    },
    {
      "cell_type": "code",
      "source": [
        "!pip3 install -r /content/moeut_training_code/requirements.txt"
      ],
      "metadata": {
        "colab": {
          "base_uri": "https://localhost:8080/"
        },
        "id": "iqxe8jGYin34",
        "outputId": "9910a57a-0888-4433-90de-c429f0304b81"
      },
      "execution_count": null,
      "outputs": [
        {
          "output_type": "stream",
          "name": "stdout",
          "text": [
            "Requirement already satisfied: torch in /usr/local/lib/python3.11/dist-packages (from -r /content/moeut_training_code/requirements.txt (line 1)) (2.6.0+cu124)\n",
            "Requirement already satisfied: cython in /usr/local/lib/python3.11/dist-packages (from -r /content/moeut_training_code/requirements.txt (line 2)) (3.0.12)\n",
            "Requirement already satisfied: tqdm in /usr/local/lib/python3.11/dist-packages (from -r /content/moeut_training_code/requirements.txt (line 3)) (4.67.1)\n",
            "Requirement already satisfied: psutil in /usr/local/lib/python3.11/dist-packages (from -r /content/moeut_training_code/requirements.txt (line 4)) (5.9.5)\n",
            "Requirement already satisfied: matplotlib in /usr/local/lib/python3.11/dist-packages (from -r /content/moeut_training_code/requirements.txt (line 5)) (3.10.0)\n",
            "Requirement already satisfied: tensorboard in /usr/local/lib/python3.11/dist-packages (from -r /content/moeut_training_code/requirements.txt (line 6)) (2.18.0)\n",
            "Requirement already satisfied: future in /usr/local/lib/python3.11/dist-packages (from -r /content/moeut_training_code/requirements.txt (line 7)) (1.0.0)\n",
            "Requirement already satisfied: filelock in /usr/local/lib/python3.11/dist-packages (from -r /content/moeut_training_code/requirements.txt (line 8)) (3.18.0)\n",
            "Requirement already satisfied: setproctitle in /usr/local/lib/python3.11/dist-packages (from -r /content/moeut_training_code/requirements.txt (line 9)) (1.3.6)\n",
            "Requirement already satisfied: wandb in /usr/local/lib/python3.11/dist-packages (from -r /content/moeut_training_code/requirements.txt (line 10)) (0.19.11)\n",
            "Requirement already satisfied: dataclasses in /usr/local/lib/python3.11/dist-packages (from -r /content/moeut_training_code/requirements.txt (line 11)) (0.6)\n",
            "Requirement already satisfied: pillow in /usr/local/lib/python3.11/dist-packages (from -r /content/moeut_training_code/requirements.txt (line 12)) (11.2.1)\n",
            "Requirement already satisfied: torchvision in /usr/local/lib/python3.11/dist-packages (from -r /content/moeut_training_code/requirements.txt (line 13)) (0.21.0+cu124)\n",
            "Requirement already satisfied: ninja in /usr/local/lib/python3.11/dist-packages (from -r /content/moeut_training_code/requirements.txt (line 14)) (1.11.1.4)\n",
            "Requirement already satisfied: moviepy in /usr/local/lib/python3.11/dist-packages (from -r /content/moeut_training_code/requirements.txt (line 15)) (1.0.3)\n",
            "Requirement already satisfied: plotly in /usr/local/lib/python3.11/dist-packages (from -r /content/moeut_training_code/requirements.txt (line 16)) (5.24.1)\n",
            "Requirement already satisfied: python-hostlist in /usr/local/lib/python3.11/dist-packages (from -r /content/moeut_training_code/requirements.txt (line 17)) (2.2.1)\n",
            "Requirement already satisfied: scipy in /usr/local/lib/python3.11/dist-packages (from -r /content/moeut_training_code/requirements.txt (line 18)) (1.15.3)\n",
            "Requirement already satisfied: scikit-learn in /usr/local/lib/python3.11/dist-packages (from -r /content/moeut_training_code/requirements.txt (line 19)) (1.6.1)\n",
            "Requirement already satisfied: typing-extensions>=4.10.0 in /usr/local/lib/python3.11/dist-packages (from torch->-r /content/moeut_training_code/requirements.txt (line 1)) (4.13.2)\n",
            "Requirement already satisfied: networkx in /usr/local/lib/python3.11/dist-packages (from torch->-r /content/moeut_training_code/requirements.txt (line 1)) (3.4.2)\n",
            "Requirement already satisfied: jinja2 in /usr/local/lib/python3.11/dist-packages (from torch->-r /content/moeut_training_code/requirements.txt (line 1)) (3.1.6)\n",
            "Requirement already satisfied: fsspec in /usr/local/lib/python3.11/dist-packages (from torch->-r /content/moeut_training_code/requirements.txt (line 1)) (2025.3.2)\n",
            "Requirement already satisfied: nvidia-cuda-nvrtc-cu12==12.4.127 in /usr/local/lib/python3.11/dist-packages (from torch->-r /content/moeut_training_code/requirements.txt (line 1)) (12.4.127)\n",
            "Requirement already satisfied: nvidia-cuda-runtime-cu12==12.4.127 in /usr/local/lib/python3.11/dist-packages (from torch->-r /content/moeut_training_code/requirements.txt (line 1)) (12.4.127)\n",
            "Requirement already satisfied: nvidia-cuda-cupti-cu12==12.4.127 in /usr/local/lib/python3.11/dist-packages (from torch->-r /content/moeut_training_code/requirements.txt (line 1)) (12.4.127)\n",
            "Requirement already satisfied: nvidia-cudnn-cu12==9.1.0.70 in /usr/local/lib/python3.11/dist-packages (from torch->-r /content/moeut_training_code/requirements.txt (line 1)) (9.1.0.70)\n",
            "Requirement already satisfied: nvidia-cublas-cu12==12.4.5.8 in /usr/local/lib/python3.11/dist-packages (from torch->-r /content/moeut_training_code/requirements.txt (line 1)) (12.4.5.8)\n",
            "Requirement already satisfied: nvidia-cufft-cu12==11.2.1.3 in /usr/local/lib/python3.11/dist-packages (from torch->-r /content/moeut_training_code/requirements.txt (line 1)) (11.2.1.3)\n",
            "Requirement already satisfied: nvidia-curand-cu12==10.3.5.147 in /usr/local/lib/python3.11/dist-packages (from torch->-r /content/moeut_training_code/requirements.txt (line 1)) (10.3.5.147)\n",
            "Requirement already satisfied: nvidia-cusolver-cu12==11.6.1.9 in /usr/local/lib/python3.11/dist-packages (from torch->-r /content/moeut_training_code/requirements.txt (line 1)) (11.6.1.9)\n",
            "Requirement already satisfied: nvidia-cusparse-cu12==12.3.1.170 in /usr/local/lib/python3.11/dist-packages (from torch->-r /content/moeut_training_code/requirements.txt (line 1)) (12.3.1.170)\n",
            "Requirement already satisfied: nvidia-cusparselt-cu12==0.6.2 in /usr/local/lib/python3.11/dist-packages (from torch->-r /content/moeut_training_code/requirements.txt (line 1)) (0.6.2)\n",
            "Requirement already satisfied: nvidia-nccl-cu12==2.21.5 in /usr/local/lib/python3.11/dist-packages (from torch->-r /content/moeut_training_code/requirements.txt (line 1)) (2.21.5)\n",
            "Requirement already satisfied: nvidia-nvtx-cu12==12.4.127 in /usr/local/lib/python3.11/dist-packages (from torch->-r /content/moeut_training_code/requirements.txt (line 1)) (12.4.127)\n",
            "Requirement already satisfied: nvidia-nvjitlink-cu12==12.4.127 in /usr/local/lib/python3.11/dist-packages (from torch->-r /content/moeut_training_code/requirements.txt (line 1)) (12.4.127)\n",
            "Requirement already satisfied: triton==3.2.0 in /usr/local/lib/python3.11/dist-packages (from torch->-r /content/moeut_training_code/requirements.txt (line 1)) (3.2.0)\n",
            "Requirement already satisfied: sympy==1.13.1 in /usr/local/lib/python3.11/dist-packages (from torch->-r /content/moeut_training_code/requirements.txt (line 1)) (1.13.1)\n",
            "Requirement already satisfied: mpmath<1.4,>=1.1.0 in /usr/local/lib/python3.11/dist-packages (from sympy==1.13.1->torch->-r /content/moeut_training_code/requirements.txt (line 1)) (1.3.0)\n",
            "Requirement already satisfied: contourpy>=1.0.1 in /usr/local/lib/python3.11/dist-packages (from matplotlib->-r /content/moeut_training_code/requirements.txt (line 5)) (1.3.2)\n",
            "Requirement already satisfied: cycler>=0.10 in /usr/local/lib/python3.11/dist-packages (from matplotlib->-r /content/moeut_training_code/requirements.txt (line 5)) (0.12.1)\n",
            "Requirement already satisfied: fonttools>=4.22.0 in /usr/local/lib/python3.11/dist-packages (from matplotlib->-r /content/moeut_training_code/requirements.txt (line 5)) (4.58.0)\n",
            "Requirement already satisfied: kiwisolver>=1.3.1 in /usr/local/lib/python3.11/dist-packages (from matplotlib->-r /content/moeut_training_code/requirements.txt (line 5)) (1.4.8)\n",
            "Requirement already satisfied: numpy>=1.23 in /usr/local/lib/python3.11/dist-packages (from matplotlib->-r /content/moeut_training_code/requirements.txt (line 5)) (2.0.2)\n",
            "Requirement already satisfied: packaging>=20.0 in /usr/local/lib/python3.11/dist-packages (from matplotlib->-r /content/moeut_training_code/requirements.txt (line 5)) (24.2)\n",
            "Requirement already satisfied: pyparsing>=2.3.1 in /usr/local/lib/python3.11/dist-packages (from matplotlib->-r /content/moeut_training_code/requirements.txt (line 5)) (3.2.3)\n",
            "Requirement already satisfied: python-dateutil>=2.7 in /usr/local/lib/python3.11/dist-packages (from matplotlib->-r /content/moeut_training_code/requirements.txt (line 5)) (2.9.0.post0)\n",
            "Requirement already satisfied: absl-py>=0.4 in /usr/local/lib/python3.11/dist-packages (from tensorboard->-r /content/moeut_training_code/requirements.txt (line 6)) (1.4.0)\n",
            "Requirement already satisfied: grpcio>=1.48.2 in /usr/local/lib/python3.11/dist-packages (from tensorboard->-r /content/moeut_training_code/requirements.txt (line 6)) (1.71.0)\n",
            "Requirement already satisfied: markdown>=2.6.8 in /usr/local/lib/python3.11/dist-packages (from tensorboard->-r /content/moeut_training_code/requirements.txt (line 6)) (3.8)\n",
            "Requirement already satisfied: protobuf!=4.24.0,>=3.19.6 in /usr/local/lib/python3.11/dist-packages (from tensorboard->-r /content/moeut_training_code/requirements.txt (line 6)) (5.29.4)\n",
            "Requirement already satisfied: setuptools>=41.0.0 in /usr/local/lib/python3.11/dist-packages (from tensorboard->-r /content/moeut_training_code/requirements.txt (line 6)) (75.2.0)\n",
            "Requirement already satisfied: six>1.9 in /usr/local/lib/python3.11/dist-packages (from tensorboard->-r /content/moeut_training_code/requirements.txt (line 6)) (1.17.0)\n",
            "Requirement already satisfied: tensorboard-data-server<0.8.0,>=0.7.0 in /usr/local/lib/python3.11/dist-packages (from tensorboard->-r /content/moeut_training_code/requirements.txt (line 6)) (0.7.2)\n",
            "Requirement already satisfied: werkzeug>=1.0.1 in /usr/local/lib/python3.11/dist-packages (from tensorboard->-r /content/moeut_training_code/requirements.txt (line 6)) (3.1.3)\n",
            "Requirement already satisfied: click!=8.0.0,>=7.1 in /usr/local/lib/python3.11/dist-packages (from wandb->-r /content/moeut_training_code/requirements.txt (line 10)) (8.2.1)\n",
            "Requirement already satisfied: docker-pycreds>=0.4.0 in /usr/local/lib/python3.11/dist-packages (from wandb->-r /content/moeut_training_code/requirements.txt (line 10)) (0.4.0)\n",
            "Requirement already satisfied: gitpython!=3.1.29,>=1.0.0 in /usr/local/lib/python3.11/dist-packages (from wandb->-r /content/moeut_training_code/requirements.txt (line 10)) (3.1.44)\n",
            "Requirement already satisfied: platformdirs in /usr/local/lib/python3.11/dist-packages (from wandb->-r /content/moeut_training_code/requirements.txt (line 10)) (4.3.8)\n",
            "Requirement already satisfied: pydantic<3 in /usr/local/lib/python3.11/dist-packages (from wandb->-r /content/moeut_training_code/requirements.txt (line 10)) (2.11.4)\n",
            "Requirement already satisfied: pyyaml in /usr/local/lib/python3.11/dist-packages (from wandb->-r /content/moeut_training_code/requirements.txt (line 10)) (6.0.2)\n",
            "Requirement already satisfied: requests<3,>=2.0.0 in /usr/local/lib/python3.11/dist-packages (from wandb->-r /content/moeut_training_code/requirements.txt (line 10)) (2.32.3)\n",
            "Requirement already satisfied: sentry-sdk>=2.0.0 in /usr/local/lib/python3.11/dist-packages (from wandb->-r /content/moeut_training_code/requirements.txt (line 10)) (2.29.1)\n",
            "Requirement already satisfied: decorator<5.0,>=4.0.2 in /usr/local/lib/python3.11/dist-packages (from moviepy->-r /content/moeut_training_code/requirements.txt (line 15)) (4.4.2)\n",
            "Requirement already satisfied: proglog<=1.0.0 in /usr/local/lib/python3.11/dist-packages (from moviepy->-r /content/moeut_training_code/requirements.txt (line 15)) (0.1.12)\n",
            "Requirement already satisfied: imageio<3.0,>=2.5 in /usr/local/lib/python3.11/dist-packages (from moviepy->-r /content/moeut_training_code/requirements.txt (line 15)) (2.37.0)\n",
            "Requirement already satisfied: imageio-ffmpeg>=0.2.0 in /usr/local/lib/python3.11/dist-packages (from moviepy->-r /content/moeut_training_code/requirements.txt (line 15)) (0.6.0)\n",
            "Requirement already satisfied: tenacity>=6.2.0 in /usr/local/lib/python3.11/dist-packages (from plotly->-r /content/moeut_training_code/requirements.txt (line 16)) (9.1.2)\n",
            "Requirement already satisfied: joblib>=1.2.0 in /usr/local/lib/python3.11/dist-packages (from scikit-learn->-r /content/moeut_training_code/requirements.txt (line 19)) (1.5.0)\n",
            "Requirement already satisfied: threadpoolctl>=3.1.0 in /usr/local/lib/python3.11/dist-packages (from scikit-learn->-r /content/moeut_training_code/requirements.txt (line 19)) (3.6.0)\n",
            "Requirement already satisfied: gitdb<5,>=4.0.1 in /usr/local/lib/python3.11/dist-packages (from gitpython!=3.1.29,>=1.0.0->wandb->-r /content/moeut_training_code/requirements.txt (line 10)) (4.0.12)\n",
            "Requirement already satisfied: annotated-types>=0.6.0 in /usr/local/lib/python3.11/dist-packages (from pydantic<3->wandb->-r /content/moeut_training_code/requirements.txt (line 10)) (0.7.0)\n",
            "Requirement already satisfied: pydantic-core==2.33.2 in /usr/local/lib/python3.11/dist-packages (from pydantic<3->wandb->-r /content/moeut_training_code/requirements.txt (line 10)) (2.33.2)\n",
            "Requirement already satisfied: typing-inspection>=0.4.0 in /usr/local/lib/python3.11/dist-packages (from pydantic<3->wandb->-r /content/moeut_training_code/requirements.txt (line 10)) (0.4.1)\n",
            "Requirement already satisfied: charset-normalizer<4,>=2 in /usr/local/lib/python3.11/dist-packages (from requests<3,>=2.0.0->wandb->-r /content/moeut_training_code/requirements.txt (line 10)) (3.4.2)\n",
            "Requirement already satisfied: idna<4,>=2.5 in /usr/local/lib/python3.11/dist-packages (from requests<3,>=2.0.0->wandb->-r /content/moeut_training_code/requirements.txt (line 10)) (3.10)\n",
            "Requirement already satisfied: urllib3<3,>=1.21.1 in /usr/local/lib/python3.11/dist-packages (from requests<3,>=2.0.0->wandb->-r /content/moeut_training_code/requirements.txt (line 10)) (2.4.0)\n",
            "Requirement already satisfied: certifi>=2017.4.17 in /usr/local/lib/python3.11/dist-packages (from requests<3,>=2.0.0->wandb->-r /content/moeut_training_code/requirements.txt (line 10)) (2025.4.26)\n",
            "Requirement already satisfied: MarkupSafe>=2.1.1 in /usr/local/lib/python3.11/dist-packages (from werkzeug>=1.0.1->tensorboard->-r /content/moeut_training_code/requirements.txt (line 6)) (3.0.2)\n",
            "Requirement already satisfied: smmap<6,>=3.0.1 in /usr/local/lib/python3.11/dist-packages (from gitdb<5,>=4.0.1->gitpython!=3.1.29,>=1.0.0->wandb->-r /content/moeut_training_code/requirements.txt (line 10)) (5.0.2)\n"
          ]
        }
      ]
    },
    {
      "cell_type": "code",
      "source": [
        "%cd /content/moeut_training_code/paper/moe_universal\n",
        "!python3 main_result_table.py\n"
      ],
      "metadata": {
        "colab": {
          "base_uri": "https://localhost:8080/"
        },
        "id": "kEPkZUbGh4uy",
        "outputId": "dda98387-3f1b-4aa9-fcf0-cb396a103136"
      },
      "execution_count": null,
      "outputs": [
        {
          "output_type": "stream",
          "name": "stdout",
          "text": [
            "/content/moeut_training_code/paper/moe_universal\n",
            "Traceback (most recent call last):\n",
            "  File \"/content/moeut_training_code/paper/moe_universal/main_result_table.py\", line 5, in <module>\n",
            "    runs = lib.get_runs([\n",
            "           ^^^^^^^^^^^^^^\n",
            "  File \"/content/moeut_training_code/paper/moe_universal/lib/source.py\", line 95, in get_runs\n",
            "    sweep_table = invert_sweep_id_table(get_sweep_table(api, project))\n",
            "                                        ^^^^^^^^^^^^^^^^^^^^^^^^^^^^^\n",
            "  File \"/content/moeut_training_code/paper/moe_universal/lib/source.py\", line 49, in get_sweep_table\n",
            "    edges = response.get(\"project\", {}).get(\"sweeps\", {}).get(\"edges\")\n",
            "            ^^^^^^^^^^^^^^^^^^^^^^^^^^^^^^^\n",
            "AttributeError: 'NoneType' object has no attribute 'get'\n"
          ]
        }
      ]
    },
    {
      "cell_type": "code",
      "source": [
        "2"
      ],
      "metadata": {
        "colab": {
          "base_uri": "https://localhost:8080/"
        },
        "id": "7x9C6SPNiAN8",
        "outputId": "85a7e846-46db-4bf6-de3e-58ea2118c742"
      },
      "execution_count": null,
      "outputs": [
        {
          "output_type": "stream",
          "name": "stdout",
          "text": [
            "python3: can't open file '/content/main_result_table.py': [Errno 2] No such file or directory\n"
          ]
        }
      ]
    },
    {
      "cell_type": "code",
      "source": [],
      "metadata": {
        "id": "y8sEqYP7pTac"
      },
      "execution_count": null,
      "outputs": []
    },
    {
      "cell_type": "code",
      "source": [],
      "metadata": {
        "id": "2YnKpzEypUwb"
      },
      "execution_count": null,
      "outputs": []
    },
    {
      "cell_type": "code",
      "source": [
        "%cd /content/drive/MyDrive/C4Validation\n",
        "\n",
        "!python3 /content/drive/MyDrive/C4Validation/moeut_training_code/main.py -restore /content/drive/MyDrive/C4Validation/moeut_training_code/checkpoints/C4_44M.ckpt -test_only 1 -name test -reset 1 -lm.eval.enabled 0 -stop_after 0 -fs_cache_pattern \"/tmp/fs_cache\"\n"
      ],
      "metadata": {
        "colab": {
          "base_uri": "https://localhost:8080/"
        },
        "id": "yqCoHOv_iG-O",
        "outputId": "9f1fe86f-c1b8-4042-82b2-fd5fe8988d68"
      },
      "execution_count": null,
      "outputs": [
        {
          "output_type": "stream",
          "name": "stdout",
          "text": [
            "/content/drive/MyDrive/C4Validation\n",
            "/content/drive/MyDrive/C4Validation/moeut_training_code/layers/cvmm.py:402: FutureWarning: `torch.library.impl_abstract` was renamed to `torch.library.register_fake`. Please use that instead; we will remove `torch.library.impl_abstract` in a future version of PyTorch.\n",
            "  @torch.library.impl_abstract(\"mylib::cvmm_triton\", cvmm_triton)\n",
            "/content/drive/MyDrive/C4Validation/moeut_training_code/layers/transformer/sut/parallel_linear/parallel_experts.py:14: FutureWarning: `torch.cuda.amp.custom_fwd(args...)` is deprecated. Please use `torch.amp.custom_fwd(args..., device_type='cuda')` instead.\n",
            "  @custom_fwd(cast_inputs=torch.float16)\n",
            "/content/drive/MyDrive/C4Validation/moeut_training_code/layers/transformer/sut/parallel_linear/parallel_experts.py:44: FutureWarning: `torch.cuda.amp.custom_bwd(args...)` is deprecated. Please use `torch.amp.custom_bwd(args..., device_type='cuda')` instead.\n",
            "  @custom_bwd\n",
            "Restoring: /content/drive/MyDrive/C4Validation/moeut_training_code/checkpoints/C4_44M.ckpt...\n",
            "\u001b[34m\u001b[1mwandb\u001b[0m: Currently logged in as: \u001b[33msaivamsi-ds123\u001b[0m (\u001b[33msaivamsi-ds123-university-of-california-santa-barbara\u001b[0m) to \u001b[32mhttps://api.wandb.ai\u001b[0m. Use \u001b[1m`wandb login --relogin`\u001b[0m to force relogin\n",
            "\u001b[34m\u001b[1mwandb\u001b[0m: Tracking run with wandb version 0.19.11\n",
            "\u001b[34m\u001b[1mwandb\u001b[0m: Run data is saved locally in \u001b[35m\u001b[1m/content/drive/MyDrive/C4Validation/wandb/run-20250601_044555-cmgmcdb5\u001b[0m\n",
            "\u001b[34m\u001b[1mwandb\u001b[0m: Run \u001b[1m`wandb offline`\u001b[0m to turn off syncing.\n",
            "\u001b[34m\u001b[1mwandb\u001b[0m: Syncing run \u001b[33meager-leaf-6\u001b[0m\n",
            "\u001b[34m\u001b[1mwandb\u001b[0m: ⭐️ View project at \u001b[34m\u001b[4mhttps://wandb.ai/saivamsi-ds123-university-of-california-santa-barbara/lm\u001b[0m\n",
            "\u001b[34m\u001b[1mwandb\u001b[0m: 🚀 View run at \u001b[34m\u001b[4mhttps://wandb.ai/saivamsi-ds123-university-of-california-santa-barbara/lm/runs/cmgmcdb5\u001b[0m\n",
            "---------------- Environment information: ----------------\n",
            "['absl-py==1.4.0', 'accelerate==1.7.0', 'aiohappyeyeballs==2.6.1', 'aiohttp==3.11.15', 'aiosignal==1.3.2', 'alabaster==1.0.0', 'albucore==0.0.24', 'albumentations==2.0.7', 'ale-py==0.11.0', 'altair==5.5.0', 'annotated-types==0.7.0', 'antlr4-python3-runtime==4.9.3', 'anyio==4.9.0', 'argon2-cffi-bindings==21.2.0', 'argon2-cffi==23.1.0', 'array-record==0.7.2', 'arviz==0.21.0', 'astropy-iers-data==0.2025.5.19.0.38.36', 'astropy==7.1.0', 'astunparse==1.6.3', 'atpublic==5.1', 'attrs==25.3.0', 'audioread==3.0.1', 'autocommand==2.2.2', 'autograd==1.8.0', 'babel==2.17.0', 'backcall==0.2.0', 'backports.tarfile==1.2.0', 'beautifulsoup4==4.13.4', 'betterproto==2.0.0b6', 'bigframes==2.4.0', 'bigquery-magics==0.9.0', 'bleach==6.2.0', 'blinker==1.9.0', 'blis==1.3.0', 'blobfile==3.0.0', 'blosc2==3.3.3', 'bokeh==3.7.3', 'bottleneck==1.4.2', 'bqplot==0.12.45', 'branca==0.8.1', 'build==1.2.2.post1', 'cachecontrol==0.14.3', 'cachetools==5.5.2', 'catalogue==2.0.10', 'certifi==2025.4.26', 'cffi==1.17.1', 'chardet==5.2.0', 'charset-normalizer==3.4.2', 'chex==0.1.89', 'clarabel==0.10.0', 'click==8.2.1', 'cloudpathlib==0.21.1', 'cloudpickle==3.1.1', 'cmake==3.31.6', 'cmdstanpy==1.2.5', 'colorcet==3.1.0', 'colorlover==0.3.0', 'colour==0.1.5', 'community==1.0.0b1', 'confection==0.1.5', 'cons==0.4.6', 'contourpy==1.3.2', 'cramjam==2.10.0', 'cryptography==43.0.3', 'cuda-python==12.6.2.post1', 'cudf-cu12==25.2.1', 'cudf-polars-cu12==25.2.2', 'cufflinks==0.17.3', 'cuml-cu12==25.2.1', 'cupy-cuda12x==13.3.0', 'curl-cffi==0.11.1', 'cuvs-cu12==25.2.1', 'cvxopt==1.3.2', 'cvxpy==1.6.5', 'cycler==0.12.1', 'cyipopt==1.5.0', 'cymem==2.0.11', 'cython==3.0.12', 'dask-cuda==25.2.0', 'dask-cudf-cu12==25.2.2', 'dask-expr==1.1.21', 'dask==2024.12.1', 'dataclasses==0.6', 'dataproc-spark-connect==0.7.4', 'datascience==0.17.6', 'datasets==2.14.4', 'db-dtypes==1.4.3', 'dbus-python==1.2.18', 'debugpy==1.8.0', 'decorator==4.4.2', 'defusedxml==0.7.1', 'diffusers==0.33.1', 'dill==0.3.7', 'distributed-ucxx-cu12==0.42.0', 'distributed==2024.12.1', 'distro==1.9.0', 'dlib==19.24.6', 'dm-tree==0.1.9', 'docker-pycreds==0.4.0', 'docstring-parser==0.16', 'docutils==0.21.2', 'dopamine-rl==4.1.2', 'duckdb==1.2.2', 'earthengine-api==1.5.15', 'easydict==1.13', 'editdistance==0.8.1', 'eerepr==0.1.2', 'einops==0.8.1', 'en-core-web-sm==3.8.0', 'entrypoints==0.4', 'et-xmlfile==2.0.0', 'etils==1.12.2', 'etuples==0.3.9', 'farama-notifications==0.0.4', 'fastai==2.7.19', 'fastcore==1.7.29', 'fastdownload==0.0.7', 'fastjsonschema==2.21.1', 'fastprogress==1.0.3', 'fastrlock==0.8.3', 'filelock==3.18.0', 'firebase-admin==6.8.0', 'flask==3.1.1', 'flatbuffers==25.2.10', 'flax==0.10.6', 'folium==0.19.6', 'fonttools==4.58.0', 'frozendict==2.4.6', 'frozenlist==1.6.0', 'fsspec==2025.3.2', 'future==1.0.0', 'gast==0.6.0', 'gcsfs==2025.3.2', 'gdal==3.8.4', 'gdown==5.2.0', 'geemap==0.35.3', 'geocoder==1.38.1', 'geographiclib==2.0', 'geopandas==1.0.1', 'geopy==2.4.1', 'gin-config==0.5.0', 'gitdb==4.0.12', 'gitpython==3.1.44', 'glob2==0.7', 'google-ai-generativelanguage==0.6.15', 'google-api-core==2.24.2', 'google-api-python-client==2.169.0', 'google-auth-httplib2==0.2.0', 'google-auth-oauthlib==1.2.2', 'google-auth==2.38.0', 'google-cloud-aiplatform==1.93.1', 'google-cloud-bigquery-connection==1.18.2', 'google-cloud-bigquery-storage==2.31.0', 'google-cloud-bigquery==3.33.0', 'google-cloud-core==2.4.3', 'google-cloud-dataproc==5.18.1', 'google-cloud-datastore==2.21.0', 'google-cloud-firestore==2.20.2', 'google-cloud-functions==1.20.3', 'google-cloud-iam==2.19.0', 'google-cloud-language==2.17.1', 'google-cloud-resource-manager==1.14.2', 'google-cloud-spanner==3.54.0', 'google-cloud-storage==2.19.0', 'google-cloud-translate==3.20.2', 'google-colab==1.0.0', 'google-crc32c==1.7.1', 'google-genai==1.16.1', 'google-generativeai==0.8.5', 'google-pasta==0.2.0', 'google-resumable-media==2.7.2', 'google==2.0.3', 'googleapis-common-protos==1.70.0', 'googledrivedownloader==1.1.0', 'graphviz==0.20.3', 'greenlet==3.2.2', 'grpc-google-iam-v1==0.14.2', 'grpc-interceptor==0.15.4', 'grpcio-status==1.71.0', 'grpcio==1.71.0', 'grpclib==0.4.8', 'gspread-dataframe==4.0.0', 'gspread==6.2.1', 'gym-notices==0.0.8', 'gym==0.25.2', 'gymnasium==1.1.1', 'h11==0.16.0', 'h2==4.2.0', 'h5netcdf==1.6.1', 'h5py==3.13.0', 'hdbscan==0.8.40', 'hf-transfer==0.1.9', 'highspy==1.10.0', 'holidays==0.73', 'holoviews==1.20.2', 'hpack==4.1.0', 'html5lib==1.1', 'httpcore==1.0.9', 'httpimport==1.4.1', 'httplib2==0.22.0', 'httpx==0.28.1', 'huggingface-hub==0.31.4', 'humanize==4.12.3', 'hyperframe==6.1.0', 'hyperopt==0.2.7', 'ibis-framework==9.5.0', 'idna==3.10', 'imageio-ffmpeg==0.6.0', 'imageio==2.37.0', 'imagesize==1.4.1', 'imbalanced-learn==0.13.0', 'immutabledict==4.2.1', 'importlib-metadata==8.7.0', 'importlib-resources==6.5.2', 'imutils==0.5.4', 'inflect==7.5.0', 'iniconfig==2.1.0', 'intel-cmplr-lib-ur==2025.1.1', 'intel-openmp==2025.1.1', 'ipyevents==2.0.2', 'ipyfilechooser==0.6.0', 'ipykernel==6.17.1', 'ipyleaflet==0.19.2', 'ipyparallel==8.8.0', 'ipython-genutils==0.2.0', 'ipython-sql==0.5.0', 'ipython==7.34.0', 'ipytree==0.2.2', 'ipywidgets==7.7.1', 'itsdangerous==2.2.0', 'jaraco.classes==3.4.0', 'jaraco.collections==5.1.0', 'jaraco.context==6.0.1', 'jaraco.functools==4.1.0', 'jaraco.text==3.12.1', 'jax-cuda12-pjrt==0.5.1', 'jax-cuda12-plugin==0.5.1', 'jax==0.5.2', 'jaxlib==0.5.1', 'jeepney==0.9.0', 'jieba==0.42.1', 'jinja2==3.1.6', 'jiter==0.10.0', 'joblib==1.5.0', 'jsonpatch==1.33', 'jsonpickle==4.1.0', 'jsonpointer==3.0.0', 'jsonschema-specifications==2025.4.1', 'jsonschema==4.23.0', 'jupyter-client==6.1.12', 'jupyter-console==6.1.0', 'jupyter-core==5.7.2', 'jupyter-kernel-gateway==2.5.2', 'jupyter-leaflet==0.19.2', 'jupyter-server==1.16.0', 'jupyterlab-pygments==0.3.0', 'jupyterlab-widgets==3.0.15', 'kaggle==1.7.4.5', 'kagglehub==0.3.12', 'keras-hub==0.18.1', 'keras-nlp==0.18.1', 'keras==3.8.0', 'keyring==25.6.0', 'keyrings.google-artifactregistry-auth==1.1.2', 'kiwisolver==1.4.8', 'langchain-core==0.3.60', 'langchain-text-splitters==0.3.8', 'langchain==0.3.25', 'langcodes==3.5.0', 'langsmith==0.3.42', 'language-data==1.3.0', 'launchpadlib==1.10.16', 'lazr.restfulclient==0.14.4', 'lazr.uri==1.0.6', 'lazy-loader==0.4', 'libclang==18.1.1', 'libcudf-cu12==25.2.1', 'libcugraph-cu12==25.2.0', 'libcuml-cu12==25.2.1', 'libcuvs-cu12==25.2.1', 'libkvikio-cu12==25.2.1', 'libpysal==4.13.0', 'libraft-cu12==25.2.0', 'librosa==0.11.0', 'libucx-cu12==1.18.1', 'libucxx-cu12==0.42.0', 'lightgbm==4.5.0', 'linkify-it-py==2.0.3', 'llvmlite==0.43.0', 'locket==1.0.0', 'logical-unification==0.4.6', 'lxml==5.4.0', 'mako==1.1.3', 'marisa-trie==1.2.1', 'markdown-it-py==3.0.0', 'markdown==3.8', 'markupsafe==3.0.2', 'matplotlib-inline==0.1.7', 'matplotlib-venn==1.1.2', 'matplotlib==3.10.0', 'mdit-py-plugins==0.4.2', 'mdurl==0.1.2', 'minikanren==1.0.3', 'missingno==0.5.2', 'mistune==3.1.3', 'mizani==0.13.5', 'mkl==2025.0.1', 'ml-dtypes==0.4.1', 'mlxtend==0.23.4', 'more-itertools==10.7.0', 'moviepy==1.0.3', 'mpmath==1.3.0', 'msgpack==1.1.0', 'multidict==6.4.4', 'multipledispatch==1.0.0', 'multiprocess==0.70.15', 'multitasking==0.0.11', 'murmurhash==1.0.12', 'music21==9.3.0', 'namex==0.0.9', 'narwhals==1.40.0', 'natsort==8.4.0', 'nbclassic==1.3.1', 'nbclient==0.10.2', 'nbconvert==7.16.6', 'nbformat==5.10.4', 'ndindex==1.10.0', 'nest-asyncio==1.6.0', 'networkx==3.4.2', 'nibabel==5.3.2', 'ninja==1.11.1.4', 'nltk==3.9.1', 'notebook-shim==0.2.4', 'notebook==6.5.7', 'numba-cuda==0.2.0', 'numba==0.60.0', 'numexpr==2.10.2', 'numpy==2.0.2', 'nvidia-cublas-cu12==12.4.5.8', 'nvidia-cuda-cupti-cu12==12.4.127', 'nvidia-cuda-nvcc-cu12==12.5.82', 'nvidia-cuda-nvrtc-cu12==12.4.127', 'nvidia-cuda-runtime-cu12==12.4.127', 'nvidia-cudnn-cu12==9.1.0.70', 'nvidia-cufft-cu12==11.2.1.3', 'nvidia-curand-cu12==10.3.5.147', 'nvidia-cusolver-cu12==11.6.1.9', 'nvidia-cusparse-cu12==12.3.1.170', 'nvidia-cusparselt-cu12==0.6.2', 'nvidia-ml-py==12.575.51', 'nvidia-nccl-cu12==2.21.5', 'nvidia-nvcomp-cu12==4.2.0.11', 'nvidia-nvjitlink-cu12==12.4.127', 'nvidia-nvtx-cu12==12.4.127', 'nvtx==0.2.11', 'nx-cugraph-cu12==25.2.0', 'oauth2client==4.1.3', 'oauthlib==3.2.2', 'omegaconf==2.3.0', 'openai==1.81.0', 'opencv-contrib-python==4.11.0.86', 'opencv-python-headless==4.11.0.86', 'opencv-python==4.11.0.86', 'openpyxl==3.1.5', 'opt-einsum==3.4.0', 'optax==0.2.4', 'optree==0.15.0', 'orbax-checkpoint==0.11.13', 'orjson==3.10.18', 'osqp==1.0.4', 'packaging==24.2', 'pandas-datareader==0.10.0', 'pandas-gbq==0.29.0', 'pandas-stubs==2.2.2.240909', 'pandas==2.2.2', 'pandocfilters==1.5.1', 'panel==1.7.0', 'param==2.2.0', 'parso==0.8.4', 'parsy==2.1', 'partd==1.4.2', 'pathlib==1.0.1', 'patsy==1.0.1', 'peewee==3.18.1', 'peft==0.15.2', 'pexpect==4.9.0', 'pickleshare==0.7.5', 'pillow==11.2.1', 'pip==24.1.2', 'platformdirs==4.3.8', 'plotly==5.24.1', 'plotnine==0.14.5', 'pluggy==1.6.0', 'ply==3.11', 'polars==1.21.0', 'pooch==1.8.2', 'portpicker==1.5.2', 'preshed==3.0.9', 'prettytable==3.16.0', 'proglog==0.1.12', 'progressbar2==4.5.0', 'prometheus-client==0.22.0', 'promise==2.3', 'prompt-toolkit==3.0.51', 'propcache==0.3.1', 'prophet==1.1.6', 'proto-plus==1.26.1', 'protobuf==5.29.4', 'psutil==5.9.5', 'psycopg2==2.9.10', 'ptyprocess==0.7.0', 'py-cpuinfo==9.0.0', 'py4j==0.10.9.7', 'pyarrow==18.1.0', 'pyasn1-modules==0.4.2', 'pyasn1==0.6.1', 'pycairo==1.28.0', 'pycocotools==2.0.8', 'pycparser==2.22', 'pycryptodomex==3.23.0', 'pydantic-core==2.33.2', 'pydantic==2.11.4', 'pydata-google-auth==1.9.1', 'pydot==3.0.4', 'pydotplus==2.0.2', 'pydrive2==1.21.3', 'pydrive==1.3.1', 'pyerfa==2.0.1.5', 'pygame==2.6.1', 'pygit2==1.18.0', 'pygments==2.19.1', 'pygobject==3.42.0', 'pyjwt==2.10.1', 'pylibcudf-cu12==25.2.1', 'pylibcugraph-cu12==25.2.0', 'pylibraft-cu12==25.2.0', 'pymc==5.22.0', 'pymystem3==0.2.0', 'pynndescent==0.5.13', 'pynvjitlink-cu12==0.6.0', 'pynvml==12.0.0', 'pyogrio==0.11.0', 'pyomo==6.9.2', 'pyopengl==3.1.9', 'pyopenssl==24.2.1', 'pyparsing==3.2.3', 'pyperclip==1.9.0', 'pyproj==3.7.1', 'pyproject-hooks==1.2.0', 'pyshp==2.3.1', 'pysocks==1.7.1', 'pyspark==3.5.1', 'pytensor==2.30.3', 'pytest==8.3.5', 'python-apt==0.0.0', 'python-box==7.3.2', 'python-dateutil==2.9.0.post0', 'python-hostlist==2.2.1', 'python-louvain==0.16', 'python-slugify==8.0.4', 'python-snappy==0.7.3', 'python-utils==3.9.1', 'pytz==2025.2', 'pyviz-comms==3.0.4', 'pywavelets==1.8.0', 'pyyaml==6.0.2', 'pyzmq==24.0.1', 'raft-dask-cu12==25.2.0', 'rapids-dask-dependency==25.2.0', 'ratelim==0.1.6', 'referencing==0.36.2', 'regex==2024.11.6', 'requests-oauthlib==2.0.0', 'requests-toolbelt==1.0.0', 'requests==2.32.3', 'requirements-parser==0.9.0', 'rich==13.9.4', 'rmm-cu12==25.2.0', 'roman-numerals-py==3.1.0', 'rpds-py==0.25.1', 'rpy2==3.5.17', 'rsa==4.9.1', 'safetensors==0.5.3', 'scikit-image==0.25.2', 'scikit-learn==1.6.1', 'scipy==1.15.3', 'scooby==0.10.1', 'scs==3.2.7.post2', 'seaborn==0.13.2', 'secretstorage==3.3.3', 'send2trash==1.8.3', 'sentence-transformers==4.1.0', 'sentencepiece==0.2.0', 'sentry-sdk==2.29.1', 'setproctitle==1.3.6', 'setuptools==75.2.0', 'shap==0.47.2', 'shapely==2.1.1', 'shellingham==1.5.4', 'simple-parsing==0.1.7', 'simplejson==3.20.1', 'simsimd==6.2.1', 'six==1.17.0', 'sklearn-compat==0.1.3', 'sklearn-pandas==2.2.0', 'slicer==0.0.8', 'smart-open==7.1.0', 'smmap==5.0.2', 'sniffio==1.3.1', 'snowballstemmer==3.0.1', 'sortedcontainers==2.4.0', 'soundfile==0.13.1', 'soupsieve==2.7', 'soxr==0.5.0.post1', 'spacy-legacy==3.0.12', 'spacy-loggers==1.0.5', 'spacy==3.8.6', 'spanner-graph-notebook==1.1.6', 'sphinx==8.2.3', 'sphinxcontrib-applehelp==2.0.0', 'sphinxcontrib-devhelp==2.0.0', 'sphinxcontrib-htmlhelp==2.1.0', 'sphinxcontrib-jsmath==1.0.1', 'sphinxcontrib-qthelp==2.0.0', 'sphinxcontrib-serializinghtml==2.0.0', 'sqlalchemy==2.0.41', 'sqlglot==25.20.2', 'sqlparse==0.5.3', 'srsly==2.5.1', 'stanio==0.5.1', 'statsmodels==0.14.4', 'stringzilla==3.12.5', 'stumpy==1.13.0', 'sympy==1.13.1', 'tables==3.10.2', 'tabulate==0.9.0', 'tbb==2022.1.0', 'tblib==3.1.0', 'tcmlib==1.3.0', 'tenacity==9.1.2', 'tensorboard-data-server==0.7.2', 'tensorboard==2.18.0', 'tensorflow-datasets==4.9.8', 'tensorflow-decision-forests==1.11.0', 'tensorflow-hub==0.16.1', 'tensorflow-io-gcs-filesystem==0.37.1', 'tensorflow-metadata==1.17.1', 'tensorflow-probability==0.25.0', 'tensorflow-text==2.18.1', 'tensorflow==2.18.0', 'tensorstore==0.1.74', 'termcolor==3.1.0', 'terminado==0.18.1', 'text-unidecode==1.3', 'textblob==0.19.0', 'tf-keras==2.18.0', 'tf-slim==1.1.0', 'thinc==8.3.6', 'threadpoolctl==3.6.0', 'tifffile==2025.5.21', 'tiktoken==0.9.0', 'timm==1.0.15', 'tinycss2==1.4.0', 'tokenizers==0.21.1', 'toml==0.10.2', 'tomli==2.0.1', 'toolz==0.12.1', 'torch==2.6.0+cu124', 'torchao==0.10.0', 'torchaudio==2.6.0+cu124', 'torchdata==0.11.0', 'torchsummary==1.5.1', 'torchtune==0.6.1', 'torchvision==0.21.0+cu124', 'tornado==6.4.2', 'tqdm==4.67.1', 'traitlets==5.7.1', 'traittypes==0.2.1', 'transformers==4.52.2', 'treelite==4.4.1', 'treescope==0.1.9', 'triton==3.2.0', 'tsfresh==0.21.0', 'tweepy==4.15.0', 'typeguard==4.4.2', 'typer==0.15.3', 'types-pytz==2025.2.0.20250516', 'types-setuptools==80.9.0.20250529', 'typing-extensions==4.13.2', 'typing-inspection==0.4.1', 'tzdata==2025.2', 'tzlocal==5.3.1', 'uc-micro-py==1.0.3', 'ucx-py-cu12==0.42.0', 'ucxx-cu12==0.42.0', 'umap-learn==0.5.7', 'umf==0.10.0', 'uritemplate==4.1.1', 'urllib3==2.4.0', 'vega-datasets==0.9.0', 'wadllib==1.3.6', 'wandb==0.19.11', 'wasabi==1.1.3', 'wcwidth==0.2.13', 'weasel==0.4.1', 'webcolors==24.11.1', 'webencodings==0.5.1', 'websocket-client==1.8.0', 'websockets==15.0.1', 'werkzeug==3.1.3', 'wheel==0.45.1', 'widgetsnbextension==3.6.10', 'wordcloud==1.9.4', 'wrapt==1.17.2', 'wurlitzer==3.1.1', 'xarray-einstats==0.8.0', 'xarray==2025.3.1', 'xgboost==2.1.4', 'xlrd==2.0.1', 'xxhash==3.5.0', 'xyzservices==2025.4.0', 'yarl==1.20.0', 'ydf==0.12.0', 'yellowbrick==1.5', 'yfinance==0.2.61', 'zict==3.0.0', 'zipp==3.21.0', 'zstandard==0.23.0']\n",
            "----------------------------------------------------------\n",
            "No distributed environment detected\n",
            "W&B: not synching checkpoints. Checkpoint save dir set to: save/wandb/run-20250601_044555-cmgmcdb5/files/checkpoint\n",
            "Resetting training state...\n",
            "There is no more free GPUs. Allocating the one with least memory usage.\n",
            "C4: Loaded tokenizer.\n",
            "C4: 1023 chunks missing\n",
            "Token limit reached. No need to tokenize more.\n",
            "C4: Loaded tokenizer.\n",
            "C4: 7 chunks missing\n",
            "Token limit reached. No need to tokenize more.\n",
            "Weight info:\n",
            "  n_model_weights: 37744968\n",
            "  n_attention_weights: 4919280\n",
            "  n_non_attnetion_weights: 32825688\n",
            "  attention_precent: 0.13032942563363678\n",
            "Training in bfloat16...\n",
            "/content/drive/MyDrive/C4Validation/moeut_training_code/framework/task/simple_task.py:107: FutureWarning: `torch.cuda.amp.GradScaler(args...)` is deprecated. Please use `torch.amp.GradScaler('cuda', args...)` instead.\n",
            "  self.scaler = torch.cuda.amp.GradScaler(enabled=self.amp_enabled and not self.bf16_enabled)\n",
            "Total number of model parameters: 44345792\n",
            "Loading state\n",
            "Loading run_invariants\n",
            "Loading sampler\n",
            "Loading interface\n",
            "Loading model\n",
            "/content/drive/MyDrive/C4Validation/moeut_training_code/tasks/lm_base.py:115: UserWarning: Creating a tensor from a list of numpy.ndarrays is extremely slow. Please consider converting the list to a single numpy.ndarray with numpy.array() before converting to a tensor. (Triggered internally at /pytorch/torch/csrc/utils/tensor_new.cpp:254.)\n",
            "  data = torch.tensor(res, dtype=torch.long, device=self.helper.device).T\n",
            "Starting validation on val...\n",
            "  0% 0/15 [00:00<?, ?it/s]New shape: (torch.Size([64, 1024, 412]), torch.Size([32, 412, 82]))\n",
            "New shape: (torch.Size([64, 1024, 4, 82]), torch.Size([32, 82, 412]))\n",
            "New shape: (torch.Size([64, 1024, 412]), torch.Size([155, 412, 128]))\n",
            "New shape: (torch.Size([64, 1024, 12, 128]), torch.Size([155, 128, 412]))\n",
            "100% 15/15 [00:30<00:00,  2.02s/it]\n",
            "Validation done on worker 0.\n",
            "Validation accuracy on val: 0.43318277994791665\n",
            "Validate returned:\n",
            "{\"val/loss\": 2.9030140240987143, \"val/accuracy\": 0.43318277994791665, \"val/perplexity\": 18.229005314627987, \"val/time_since_best_loss\": 0, \"val/time_since_best_accuracy\": 0, \"mean_accuracy\": 0.43318277994791665, \"mean_loss\": 2.9030140240987143}\n",
            "-------------------\n",
            "Saving save/wandb/run-20250601_044555-cmgmcdb5/files/checkpoint/model-100000.pth\n",
            "Logger: syncing\n",
            "\u001b[34m\u001b[1mwandb\u001b[0m:                                                                                \n",
            "\u001b[34m\u001b[1mwandb\u001b[0m: \n",
            "\u001b[34m\u001b[1mwandb\u001b[0m: Run history:\n",
            "\u001b[34m\u001b[1mwandb\u001b[0m:            attention_precent ▁\n",
            "\u001b[34m\u001b[1mwandb\u001b[0m:                    iteration ▁▁▁\n",
            "\u001b[34m\u001b[1mwandb\u001b[0m:                mean_accuracy ▁\n",
            "\u001b[34m\u001b[1mwandb\u001b[0m:                    mean_loss ▁\n",
            "\u001b[34m\u001b[1mwandb\u001b[0m:          n_attention_weights ▁\n",
            "\u001b[34m\u001b[1mwandb\u001b[0m:              n_model_weights ▁\n",
            "\u001b[34m\u001b[1mwandb\u001b[0m:      n_non_attnetion_weights ▁\n",
            "\u001b[34m\u001b[1mwandb\u001b[0m:                     n_params ▁\n",
            "\u001b[34m\u001b[1mwandb\u001b[0m:                 val/accuracy ▁\n",
            "\u001b[34m\u001b[1mwandb\u001b[0m:                     val/loss ▁\n",
            "\u001b[34m\u001b[1mwandb\u001b[0m:               val/perplexity ▁\n",
            "\u001b[34m\u001b[1mwandb\u001b[0m: val/time_since_best_accuracy ▁\n",
            "\u001b[34m\u001b[1mwandb\u001b[0m:     val/time_since_best_loss ▁\n",
            "\u001b[34m\u001b[1mwandb\u001b[0m: \n",
            "\u001b[34m\u001b[1mwandb\u001b[0m: Run summary:\n",
            "\u001b[34m\u001b[1mwandb\u001b[0m:            attention_precent 0.13033\n",
            "\u001b[34m\u001b[1mwandb\u001b[0m:                    iteration 100000\n",
            "\u001b[34m\u001b[1mwandb\u001b[0m:                mean_accuracy 0.43318\n",
            "\u001b[34m\u001b[1mwandb\u001b[0m:                    mean_loss 2.90301\n",
            "\u001b[34m\u001b[1mwandb\u001b[0m:          n_attention_weights 4919280\n",
            "\u001b[34m\u001b[1mwandb\u001b[0m:              n_model_weights 37744968\n",
            "\u001b[34m\u001b[1mwandb\u001b[0m:      n_non_attnetion_weights 32825688\n",
            "\u001b[34m\u001b[1mwandb\u001b[0m:                     n_params 44345792\n",
            "\u001b[34m\u001b[1mwandb\u001b[0m:                 val/accuracy 0.43318\n",
            "\u001b[34m\u001b[1mwandb\u001b[0m:                     val/loss 2.90301\n",
            "\u001b[34m\u001b[1mwandb\u001b[0m:               val/perplexity 18.22901\n",
            "\u001b[34m\u001b[1mwandb\u001b[0m: val/time_since_best_accuracy 0\n",
            "\u001b[34m\u001b[1mwandb\u001b[0m:     val/time_since_best_loss 0\n",
            "\u001b[34m\u001b[1mwandb\u001b[0m: \n",
            "\u001b[34m\u001b[1mwandb\u001b[0m: 🚀 View run \u001b[33meager-leaf-6\u001b[0m at: \u001b[34m\u001b[4mhttps://wandb.ai/saivamsi-ds123-university-of-california-santa-barbara/lm/runs/cmgmcdb5\u001b[0m\n",
            "\u001b[34m\u001b[1mwandb\u001b[0m: ⭐️ View project at: \u001b[34m\u001b[4mhttps://wandb.ai/saivamsi-ds123-university-of-california-santa-barbara/lm\u001b[0m\n",
            "\u001b[34m\u001b[1mwandb\u001b[0m: Synced 5 W&B file(s), 0 media file(s), 0 artifact file(s) and 0 other file(s)\n",
            "\u001b[34m\u001b[1mwandb\u001b[0m: Find logs at: \u001b[35m\u001b[1m./wandb/run-20250601_044555-cmgmcdb5/logs\u001b[0m\n",
            "Logger process terminating...\n"
          ]
        }
      ]
    },
    {
      "cell_type": "code",
      "source": [],
      "metadata": {
        "id": "VftSYPRfzhbK"
      },
      "execution_count": null,
      "outputs": []
    },
    {
      "cell_type": "markdown",
      "source": [
        "Validation done on worker 0.\n",
        "Validation accuracy on val: 0.43318277994791665\n",
        "Validate returned:\n",
        "{\"val/loss\": 2.9030140240987143, \"val/accuracy\": 0.43318277994791665, \"val/perplexity\": 18.229005314627987, \"val/time_since_best_loss\": 0, \"val/time_since_best_accuracy\": 0, \"mean_accuracy\": 0.43318277994791665, \"mean_loss\": 2.9030140240987143}\n",
        "-------------------\n",
        "Saving save/wandb/run-20250601_040328-hrhgsw2s/files/checkpoint/model-100000.pth\n",
        "Logger: syncing\n",
        "wandb:                                                                                \n",
        "wandb:\n",
        "wandb: Run history:\n",
        "wandb:            attention_precent ▁\n",
        "wandb:                    iteration ▁▁▁\n",
        "wandb:                mean_accuracy ▁\n",
        "wandb:                    mean_loss ▁\n",
        "wandb:          n_attention_weights ▁\n",
        "wandb:              n_model_weights ▁\n",
        "wandb:      n_non_attnetion_weights ▁\n",
        "wandb:                     n_params ▁\n",
        "wandb:                 val/accuracy ▁\n",
        "wandb:                     val/loss ▁\n",
        "wandb:               val/perplexity ▁\n",
        "wandb: val/time_since_best_accuracy ▁\n",
        "wandb:     val/time_since_best_loss ▁\n",
        "wandb:\n",
        "wandb: Run summary:\n",
        "wandb:            attention_precent 0.13033\n",
        "wandb:                    iteration 100000\n",
        "wandb:                mean_accuracy 0.43318\n",
        "wandb:                    mean_loss 2.90301\n",
        "wandb:          n_attention_weights 4919280\n",
        "wandb:              n_model_weights 37744968\n",
        "wandb:      n_non_attnetion_weights 32825688\n",
        "wandb:                     n_params 44345792\n",
        "wandb:                 val/accuracy 0.43318\n",
        "wandb:                     val/loss 2.90301\n",
        "wandb:               val/perplexity 18.22901\n",
        "wandb: val/time_since_best_accuracy 0\n",
        "wandb:     val/time_since_best_loss 0\n",
        "wandb:\n",
        "wandb: 🚀 View run autumn-meadow-3 at: https://wandb.ai/saivamsi-ds123-university-of-california-santa-barbara/lm/runs/hrhgsw2s\n",
        "wandb: ⭐️ View project at: https://wandb.ai/saivamsi-ds123-university-of-california-santa-barbara/lm\n",
        "wandb: Synced 5 W&B file(s), 0 media file(s), 0 artifact file(s) and 0 other file(s)\n",
        "wandb: Find logs at: ./wandb/run-20250601_040328-hrhgsw2s/logs\n",
        "Logger process terminating..."
      ],
      "metadata": {
        "id": "wQ_mXCd2ydQb"
      }
    },
    {
      "cell_type": "code",
      "source": [
        "!wandb login"
      ],
      "metadata": {
        "colab": {
          "base_uri": "https://localhost:8080/"
        },
        "id": "CSaowltboe3A",
        "outputId": "b0c7fdd1-6577-4c67-b267-8e8803478358"
      },
      "execution_count": null,
      "outputs": [
        {
          "output_type": "stream",
          "name": "stdout",
          "text": [
            "\u001b[34m\u001b[1mwandb\u001b[0m: \u001b[33mWARNING\u001b[0m Using legacy-service, which is deprecated. If this is unintentional, you can fix it by ensuring you do not call `wandb.require('legacy-service')` and do not set the WANDB_X_REQUIRE_LEGACY_SERVICE environment variable.\n",
            "\u001b[34m\u001b[1mwandb\u001b[0m: Logging into wandb.ai. (Learn how to deploy a W&B server locally: https://wandb.me/wandb-server)\n",
            "\u001b[34m\u001b[1mwandb\u001b[0m: You can find your API key in your browser here: https://wandb.ai/authorize?ref=models\n",
            "\u001b[34m\u001b[1mwandb\u001b[0m: Paste an API key from your profile and hit enter, or press ctrl+c to quit: \n",
            "\u001b[34m\u001b[1mwandb\u001b[0m: No netrc file found, creating one.\n",
            "\u001b[34m\u001b[1mwandb\u001b[0m: Appending key for api.wandb.ai to your netrc file: /root/.netrc\n",
            "\u001b[34m\u001b[1mwandb\u001b[0m: Currently logged in as: \u001b[33msaivamsi-ds123\u001b[0m (\u001b[33msaivamsi-ds123-university-of-california-santa-barbara\u001b[0m) to \u001b[32mhttps://api.wandb.ai\u001b[0m. Use \u001b[1m`wandb login --relogin`\u001b[0m to force relogin\n"
          ]
        }
      ]
    },
    {
      "cell_type": "code",
      "source": [],
      "metadata": {
        "id": "DoHW4rNRpakX"
      },
      "execution_count": null,
      "outputs": []
    }
  ]
}